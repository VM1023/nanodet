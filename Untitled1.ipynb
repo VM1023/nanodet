{
 "cells": [
  {
   "cell_type": "code",
   "execution_count": 1,
   "id": "281062d3-40b9-4c3a-8a0b-787b5dd36f9f",
   "metadata": {},
   "outputs": [
    {
     "name": "stderr",
     "output_type": "stream",
     "text": [
      "/tmp/ipykernel_3992/2166837757.py:5: FutureWarning: You are using `torch.load` with `weights_only=False` (the current default value), which uses the default pickle module implicitly. It is possible to construct malicious pickle data which will execute arbitrary code during unpickling (See https://github.com/pytorch/pytorch/blob/main/SECURITY.md#untrusted-models for more details). In a future release, the default value for `weights_only` will be flipped to `True`. This limits the functions that could be executed during unpickling. Arbitrary objects will no longer be allowed to be loaded via this mode unless they are explicitly allowlisted by the user via `torch.serialization.add_safe_globals`. We recommend you start setting `weights_only=True` for any use case where you don't have full control of the loaded file. Please open an issue on GitHub for any issues related to this experimental feature.\n",
      "  model = torch.load(model_path)\n"
     ]
    },
    {
     "ename": "AttributeError",
     "evalue": "'dict' object has no attribute 'eval'",
     "output_type": "error",
     "traceback": [
      "\u001b[0;31m---------------------------------------------------------------------------\u001b[0m",
      "\u001b[0;31mAttributeError\u001b[0m                            Traceback (most recent call last)",
      "Cell \u001b[0;32mIn[1], line 6\u001b[0m\n\u001b[1;32m      4\u001b[0m model_path \u001b[38;5;241m=\u001b[39m \u001b[38;5;124m'\u001b[39m\u001b[38;5;124mworkspace/nanodet-plus-m_416/model_best/nanodet_model_best.pth\u001b[39m\u001b[38;5;124m'\u001b[39m\n\u001b[1;32m      5\u001b[0m model \u001b[38;5;241m=\u001b[39m torch\u001b[38;5;241m.\u001b[39mload(model_path)\n\u001b[0;32m----> 6\u001b[0m \u001b[43mmodel\u001b[49m\u001b[38;5;241;43m.\u001b[39;49m\u001b[43meval\u001b[49m()\n",
      "\u001b[0;31mAttributeError\u001b[0m: 'dict' object has no attribute 'eval'"
     ]
    }
   ],
   "source": [
    "import torch\n",
    "\n",
    "# Load the trained model\n",
    "model_path = 'workspace/nanodet-plus-m_416/model_best/nanodet_model_best.pth'\n",
    "model = torch.load(model_path)\n",
    "model.eval()  # Set the model to evaluation mode"
   ]
  },
  {
   "cell_type": "code",
   "execution_count": 2,
   "id": "8a83de9d-520d-4da0-8dd4-5c6ae14fd27b",
   "metadata": {},
   "outputs": [
    {
     "ename": "ImportError",
     "evalue": "cannot import name 'NanoDet' from 'nanodet' (/home/parul/Desktop/Vinit/nanodet/nanodet/__init__.py)",
     "output_type": "error",
     "traceback": [
      "\u001b[0;31m---------------------------------------------------------------------------\u001b[0m",
      "\u001b[0;31mImportError\u001b[0m                               Traceback (most recent call last)",
      "Cell \u001b[0;32mIn[2], line 2\u001b[0m\n\u001b[1;32m      1\u001b[0m \u001b[38;5;28;01mimport\u001b[39;00m \u001b[38;5;21;01mtorch\u001b[39;00m\n\u001b[0;32m----> 2\u001b[0m \u001b[38;5;28;01mfrom\u001b[39;00m \u001b[38;5;21;01mnanodet\u001b[39;00m \u001b[38;5;28;01mimport\u001b[39;00m NanoDet  \u001b[38;5;66;03m# Adjust this based on the actual file name\u001b[39;00m\n\u001b[1;32m      4\u001b[0m \u001b[38;5;66;03m# Define the model architecture\u001b[39;00m\n\u001b[1;32m      5\u001b[0m model \u001b[38;5;241m=\u001b[39m NanoDet()  \u001b[38;5;66;03m# Initialize the model (make sure to use the correct parameters)\u001b[39;00m\n",
      "\u001b[0;31mImportError\u001b[0m: cannot import name 'NanoDet' from 'nanodet' (/home/parul/Desktop/Vinit/nanodet/nanodet/__init__.py)"
     ]
    }
   ],
   "source": [
    "import torch\n",
    "from nanodet import NanoDet  # Adjust this based on the actual file name\n",
    "\n",
    "# Define the model architecture\n",
    "model = NanoDet()  # Initialize the model (make sure to use the correct parameters)\n",
    "\n",
    "# Load the model weights\n",
    "model_path = 'workspace/nanodet-plus-m_416/model_best/nanodet_model_best.pth'\n",
    "checkpoint = torch.load(model_path)\n",
    "\n",
    "# Load the state dictionary into the model\n",
    "model.load_state_dict(checkpoint['state_dict'])  # Adjust the key based on how the model was saved\n",
    "\n",
    "# Set the model to evaluation mode\n",
    "model.eval()"
   ]
  },
  {
   "cell_type": "code",
   "execution_count": 3,
   "id": "799f95dd-42aa-4bae-b636-eb37b8244d19",
   "metadata": {},
   "outputs": [
    {
     "ename": "AttributeError",
     "evalue": "'dict' object has no attribute 'eval'",
     "output_type": "error",
     "traceback": [
      "\u001b[0;31m---------------------------------------------------------------------------\u001b[0m",
      "\u001b[0;31mAttributeError\u001b[0m                            Traceback (most recent call last)",
      "Cell \u001b[0;32mIn[3], line 9\u001b[0m\n\u001b[1;32m      2\u001b[0m model \u001b[38;5;241m=\u001b[39m model_dict[\u001b[38;5;124m'\u001b[39m\u001b[38;5;124mstate_dict\u001b[39m\u001b[38;5;124m'\u001b[39m]  \u001b[38;5;66;03m# Adjust the key based on your inspection\u001b[39;00m\n\u001b[1;32m      4\u001b[0m \u001b[38;5;66;03m# If the model is a state_dict, you need to load it into your model architecture\u001b[39;00m\n\u001b[1;32m      5\u001b[0m \u001b[38;5;66;03m# For example, if you have a model class defined, you would do something like this:\u001b[39;00m\n\u001b[1;32m      6\u001b[0m \u001b[38;5;66;03m# model = YourModelClass()  # Initialize your model class\u001b[39;00m\n\u001b[1;32m      7\u001b[0m \u001b[38;5;66;03m# model.load_state_dict(model_dict['state_dict'])  # Load the state dict\u001b[39;00m\n\u001b[0;32m----> 9\u001b[0m \u001b[43mmodel\u001b[49m\u001b[38;5;241;43m.\u001b[39;49m\u001b[43meval\u001b[49m()  \u001b[38;5;66;03m# Set the model to evaluation mode\u001b[39;00m\n",
      "\u001b[0;31mAttributeError\u001b[0m: 'dict' object has no attribute 'eval'"
     ]
    }
   ],
   "source": [
    "# Assuming the model is stored under the key 'model'\n",
    "model = model_dict['state_dict']  # Adjust the key based on your inspection\n",
    "\n",
    "# If the model is a state_dict, you need to load it into your model architecture\n",
    "# For example, if you have a model class defined, you would do something like this:\n",
    "# model = YourModelClass()  # Initialize your model class\n",
    "# model.load_state_dict(model_dict['state_dict'])  # Load the state dict\n",
    "\n",
    "model.eval()  # Set the model to evaluation mode"
   ]
  },
  {
   "cell_type": "code",
   "execution_count": 8,
   "id": "75accbee-c7e3-49b0-a84b-50f4bb797b59",
   "metadata": {},
   "outputs": [
    {
     "ename": "ImportError",
     "evalue": "cannot import name 'NanoDet' from 'nanodet.model' (unknown location)",
     "output_type": "error",
     "traceback": [
      "\u001b[0;31m---------------------------------------------------------------------------\u001b[0m",
      "\u001b[0;31mImportError\u001b[0m                               Traceback (most recent call last)",
      "Cell \u001b[0;32mIn[8], line 2\u001b[0m\n\u001b[1;32m      1\u001b[0m \u001b[38;5;28;01mimport\u001b[39;00m \u001b[38;5;21;01mtorch\u001b[39;00m\n\u001b[0;32m----> 2\u001b[0m \u001b[38;5;28;01mfrom\u001b[39;00m \u001b[38;5;21;01mnanodet\u001b[39;00m\u001b[38;5;21;01m.\u001b[39;00m\u001b[38;5;21;01mmodel\u001b[39;00m \u001b[38;5;28;01mimport\u001b[39;00m NanoDet\n\u001b[1;32m      4\u001b[0m \u001b[38;5;66;03m# 1. Define the model\u001b[39;00m\n\u001b[1;32m      5\u001b[0m model_config \u001b[38;5;241m=\u001b[39m \u001b[38;5;124m'\u001b[39m\u001b[38;5;124mconfig/nanodet-plus-m_416-yolo.yml\u001b[39m\u001b[38;5;124m'\u001b[39m  \u001b[38;5;66;03m# Update this to your model's config file\u001b[39;00m\n",
      "\u001b[0;31mImportError\u001b[0m: cannot import name 'NanoDet' from 'nanodet.model' (unknown location)"
     ]
    }
   ],
   "source": [
    "import torch\n",
    "from nanodet.model import NanoDet\n",
    "\n",
    "# 1. Define the model\n",
    "model_config = 'config/nanodet-plus-m_416-yolo.yml'  # Update this to your model's config file\n",
    "model = NanoDet(config_file=model_config)  # Example: If 'NanoDet' class exists\n",
    "\n",
    "# 2. Load the state dictionary\n",
    "model_path = 'workspace/nanodet-plus-m_416/model_best/nanodet_model_best.pth'\n",
    "checkpoint = torch.load(model_path)\n",
    "model.load_state_dict(checkpoint['state_dict'])  # Assuming 'state_dict' contains the weights\n",
    "\n",
    "# 3. Set the model to evaluation mode\n",
    "model.eval()\n"
   ]
  },
  {
   "cell_type": "code",
   "execution_count": 1,
   "id": "2f87902b-6399-4e64-a5a4-b3809567cacf",
   "metadata": {},
   "outputs": [
    {
     "ename": "ImportError",
     "evalue": "cannot import name 'build_model' from 'nanodet.model' (unknown location)",
     "output_type": "error",
     "traceback": [
      "\u001b[0;31m---------------------------------------------------------------------------\u001b[0m",
      "\u001b[0;31mImportError\u001b[0m                               Traceback (most recent call last)",
      "Cell \u001b[0;32mIn[1], line 1\u001b[0m\n\u001b[0;32m----> 1\u001b[0m \u001b[38;5;28;01mfrom\u001b[39;00m \u001b[38;5;21;01mnanodet\u001b[39;00m\u001b[38;5;21;01m.\u001b[39;00m\u001b[38;5;21;01mmodel\u001b[39;00m \u001b[38;5;28;01mimport\u001b[39;00m build_model  \u001b[38;5;66;03m# This may differ based on how NanoDet is structured\u001b[39;00m\n\u001b[1;32m      2\u001b[0m \u001b[38;5;28;01mfrom\u001b[39;00m \u001b[38;5;21;01mnanodet\u001b[39;00m\u001b[38;5;21;01m.\u001b[39;00m\u001b[38;5;21;01mutil\u001b[39;00m \u001b[38;5;28;01mimport\u001b[39;00m load_model\n\u001b[1;32m      4\u001b[0m config_file \u001b[38;5;241m=\u001b[39m \u001b[38;5;124m'\u001b[39m\u001b[38;5;124mconfig/nanodet-plus-m_416-yolo.yml\u001b[39m\u001b[38;5;124m'\u001b[39m  \u001b[38;5;66;03m# Path to config\u001b[39;00m\n",
      "\u001b[0;31mImportError\u001b[0m: cannot import name 'build_model' from 'nanodet.model' (unknown location)"
     ]
    }
   ],
   "source": [
    "from nanodet.model import build_model  # This may differ based on how NanoDet is structured\n",
    "from nanodet.util import load_model\n",
    "\n",
    "config_file = 'config/nanodet-plus-m_416-yolo.yml'  # Path to config\n",
    "model = build_model(config_file)  # Check NanoDet's method for building models\n",
    "checkpoint = torch.load('workspace/nanodet-plus-m_416/model_best/nanodet_model_best.pth')\n",
    "model.load_state_dict(checkpoint['state_dict'])\n",
    "model.eval()\n"
   ]
  },
  {
   "cell_type": "code",
   "execution_count": null,
   "id": "4e8ec9c9-4253-4d48-a75d-1c46c078cac7",
   "metadata": {},
   "outputs": [],
   "source": []
  }
 ],
 "metadata": {
  "kernelspec": {
   "display_name": "Python 3 (ipykernel)",
   "language": "python",
   "name": "python3"
  },
  "language_info": {
   "codemirror_mode": {
    "name": "ipython",
    "version": 3
   },
   "file_extension": ".py",
   "mimetype": "text/x-python",
   "name": "python",
   "nbconvert_exporter": "python",
   "pygments_lexer": "ipython3",
   "version": "3.8.20"
  }
 },
 "nbformat": 4,
 "nbformat_minor": 5
}
